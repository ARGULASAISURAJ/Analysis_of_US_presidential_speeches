{
 "cells": [
  {
   "cell_type": "markdown",
   "metadata": {},
   "source": [
    "\n",
    " <h1><center> Analysis of U.S Presedential Inaugural Speeches </center></h1>"
   ]
  },
  {
   "cell_type": "markdown",
   "metadata": {},
   "source": [
    "<h1>Table of contents</h1>\n",
    "\n",
    "<div class=\"alert alert-block alert-info\" style=\"margin-top: 20px\">\n",
    "    <ol>\n",
    "        <li><a href=\"#Section_1\"> Importing Required Libraries</a></li>\n",
    "        <li><a href=\"#Section_2\"> Importing and Preprocessing Data Frame</a></li>\n",
    "        <li><a href=\"#Section_3\"> Question 1</a></li>\n",
    "        <li><a href=\"#Section_4\"> Question 2</a></li>\n",
    "        <li><a href=\"#Section_5\"> Question 3</a></li>\n",
    "        <li><a href=\"#Section_6\"> Question 4</a></li>\n",
    "    </ol>\n",
    "</div>"
   ]
  },
  {
   "cell_type": "markdown",
   "metadata": {},
   "source": [
    "<h2 id=\"#Section_1\"> 1.Importing Required Libraries</h2>"
   ]
  },
  {
   "cell_type": "code",
   "execution_count": 20,
   "metadata": {},
   "outputs": [
    {
     "name": "stderr",
     "output_type": "stream",
     "text": [
      "[nltk_data] Downloading package inaugural to\n",
      "[nltk_data]     C:\\Users\\saisu\\AppData\\Roaming\\nltk_data...\n",
      "[nltk_data]   Package inaugural is already up-to-date!\n"
     ]
    }
   ],
   "source": [
    "# importing required libraries\n",
    "import nltk\n",
    "from nltk.corpus import inaugural\n",
    "nltk.download('inaugural') #inaugural corpus\n",
    "import pandas as pd\n",
    "import regex as re\n",
    "import os\n",
    "import warnings\n",
    "warnings.filterwarnings('ignore')\n",
    "from nltk.probability import FreqDist\n",
    "import matplotlib.pyplot as plt\n",
    "import seaborn as sns\n",
    "from textblob import TextBlob\n",
    "from textblob.sentiments import NaiveBayesAnalyzer"
   ]
  },
  {
   "cell_type": "markdown",
   "metadata": {},
   "source": [
    "<h2 id=\"#Section_2\"> 2. Importing_and_pre-processing_Data_Frame </h2>"
   ]
  },
  {
   "cell_type": "code",
   "execution_count": 2,
   "metadata": {},
   "outputs": [],
   "source": [
    "#Predsident by Name and party from Github\n",
    "Presidents_by_Year = pd.read_csv('Presidents_Parties.csv')"
   ]
  },
  {
   "cell_type": "code",
   "execution_count": 3,
   "metadata": {},
   "outputs": [],
   "source": [
    "# Presedential Speeches \n",
    "speeches_df = pd.DataFrame() \n",
    "for speech in inaugural.fileids():\n",
    "    speeches_df = speeches_df.append({'Year': speech[0:4],'Speech':inaugural.raw(speech)}, ignore_index=True)\n",
    "speeches_df['Year']=speeches_df['Year'].astype(int)\n",
    "#merge dataframes\n",
    "speeches_df_Year_party=pd.concat([speeches_df,Presidents_by_Year],axis=1)"
   ]
  },
  {
   "cell_type": "markdown",
   "metadata": {},
   "source": [
    "<h2 id=\"#Section_3\"> 3. Vocab length of each president </h2> "
   ]
  },
  {
   "cell_type": "code",
   "execution_count": 4,
   "metadata": {},
   "outputs": [],
   "source": [
    "#Iterating over DF and adding a new col 'vocab_len for each record.'\n",
    "speeches_df_Year_party['Vocab_len']=''\n",
    "for i in speeches_df_Year_party.index:\n",
    "    Speech_Corpus_by_President=speeches_df_Year_party['Speech'][i].strip().lower() #removing leading spaces and lowering text\n",
    "    Speech_Words_by_President=Speech_Corpus_by_President.split() #split to words list\n",
    "    Speech_Words_by_President = [re.sub(r'[:!?\\.,-]+', '', h) for h in Speech_Words_by_President] # removing punctuations\n",
    "    speeches_df_Year_party['Vocab_len'][i]=len(set([w.lower() for w in Speech_Words_by_President]))#adding len to df"
   ]
  },
  {
   "cell_type": "markdown",
   "metadata": {},
   "source": [
    "### Question 1 \n",
    "### Which president has the most vocabulary as evident from their inaugural speeches, and which presidents has the least vocabulary? On average, do Democratic, Republican, or Other presidents have higher vocabulary?"
   ]
  },
  {
   "cell_type": "code",
   "execution_count": 5,
   "metadata": {},
   "outputs": [
    {
     "data": {
      "text/html": [
       "<div>\n",
       "<style scoped>\n",
       "    .dataframe tbody tr th:only-of-type {\n",
       "        vertical-align: middle;\n",
       "    }\n",
       "\n",
       "    .dataframe tbody tr th {\n",
       "        vertical-align: top;\n",
       "    }\n",
       "\n",
       "    .dataframe thead th {\n",
       "        text-align: right;\n",
       "    }\n",
       "</style>\n",
       "<table border=\"1\" class=\"dataframe\">\n",
       "  <thead>\n",
       "    <tr style=\"text-align: right;\">\n",
       "      <th></th>\n",
       "      <th>Speech</th>\n",
       "      <th>Year</th>\n",
       "      <th>Party</th>\n",
       "      <th>President</th>\n",
       "      <th>Vocab_len</th>\n",
       "    </tr>\n",
       "  </thead>\n",
       "  <tbody>\n",
       "    <tr>\n",
       "      <th>13</th>\n",
       "      <td>Called from a retirement which I had supposed ...</td>\n",
       "      <td>1841</td>\n",
       "      <td>Others</td>\n",
       "      <td>William Henry Harrison</td>\n",
       "      <td>1848</td>\n",
       "    </tr>\n",
       "  </tbody>\n",
       "</table>\n",
       "</div>"
      ],
      "text/plain": [
       "                                               Speech  Year   Party  \\\n",
       "13  Called from a retirement which I had supposed ...  1841  Others   \n",
       "\n",
       "                 President Vocab_len  \n",
       "13  William Henry Harrison      1848  "
      ]
     },
     "execution_count": 5,
     "metadata": {},
     "output_type": "execute_result"
    }
   ],
   "source": [
    "speeches_df_Year_party[speeches_df_Year_party['Vocab_len']==speeches_df_Year_party['Vocab_len'].max()] #max vocab len record"
   ]
  },
  {
   "cell_type": "markdown",
   "metadata": {},
   "source": [
    "### Benjamin Harrison with 1848 words has highest Vocab "
   ]
  },
  {
   "cell_type": "code",
   "execution_count": 6,
   "metadata": {},
   "outputs": [
    {
     "data": {
      "text/html": [
       "<div>\n",
       "<style scoped>\n",
       "    .dataframe tbody tr th:only-of-type {\n",
       "        vertical-align: middle;\n",
       "    }\n",
       "\n",
       "    .dataframe tbody tr th {\n",
       "        vertical-align: top;\n",
       "    }\n",
       "\n",
       "    .dataframe thead th {\n",
       "        text-align: right;\n",
       "    }\n",
       "</style>\n",
       "<table border=\"1\" class=\"dataframe\">\n",
       "  <thead>\n",
       "    <tr style=\"text-align: right;\">\n",
       "      <th></th>\n",
       "      <th>Speech</th>\n",
       "      <th>Year</th>\n",
       "      <th>Party</th>\n",
       "      <th>President</th>\n",
       "      <th>Vocab_len</th>\n",
       "    </tr>\n",
       "  </thead>\n",
       "  <tbody>\n",
       "    <tr>\n",
       "      <th>1</th>\n",
       "      <td>Fellow citizens, I am again called upon by the...</td>\n",
       "      <td>1793</td>\n",
       "      <td>Others</td>\n",
       "      <td>George Washington</td>\n",
       "      <td>90</td>\n",
       "    </tr>\n",
       "  </tbody>\n",
       "</table>\n",
       "</div>"
      ],
      "text/plain": [
       "                                              Speech  Year   Party  \\\n",
       "1  Fellow citizens, I am again called upon by the...  1793  Others   \n",
       "\n",
       "           President Vocab_len  \n",
       "1  George Washington        90  "
      ]
     },
     "execution_count": 6,
     "metadata": {},
     "output_type": "execute_result"
    }
   ],
   "source": [
    "speeches_df_Year_party[speeches_df_Year_party['Vocab_len']==speeches_df_Year_party['Vocab_len'].min()]# min vocab len record"
   ]
  },
  {
   "cell_type": "markdown",
   "metadata": {},
   "source": [
    "### George Washington with  90 words has lowest Vocab "
   ]
  },
  {
   "cell_type": "code",
   "execution_count": 7,
   "metadata": {},
   "outputs": [],
   "source": [
    "speeches_df_Year_party['Vocab_len']=speeches_df_Year_party['Vocab_len'].astype(int) #to int\n",
    "#renaming party names into republic,democrat and others \n",
    "speeches_df_Year_party['Party'].replace({'Republican/NationalUnion':'Republican','Democratic-Republican':'Other','Federalist':'Other',\n",
    "                                        'Whig':'Other','Democratic-Republican':'Other','Independent':'Other',\n",
    "                                        'Democratic-Republican/NationalRepublican':'Other'},inplace=True)"
   ]
  },
  {
   "cell_type": "code",
   "execution_count": 8,
   "metadata": {},
   "outputs": [
    {
     "name": "stdout",
     "output_type": "stream",
     "text": [
      "Party\n",
      "Democratic    714.772727\n",
      "Others        792.200000\n",
      "Republican    822.666667\n",
      "Name: Vocab_len, dtype: float64\n"
     ]
    },
    {
     "data": {
      "image/png": "[encoded data removed]",
      "text/plain": [
       "<Figure size 432x288 with 1 Axes>"
      ]
     },
     "metadata": {
      "needs_background": "light"
     },
     "output_type": "display_data"
    }
   ],
   "source": [
    "#function to retun avg vocab count and graph by party\n",
    "def Avg_vocab_count_by_party():\n",
    "    print(speeches_df_Year_party.groupby('Party')['Vocab_len'].mean())\n",
    "    Vocab_len_by_party=speeches_df_Year_party.groupby('Party')['Vocab_len'].mean().reset_index()\n",
    "    plt.bar(Vocab_len_by_party['Party'], Vocab_len_by_party['Vocab_len'])\n",
    "    plt.xlabel('Party')\n",
    "    plt.xticks(rotation=0)\n",
    "    plt.ylabel('Avg_Vocab_Count')\n",
    "    plt.title('Barplot of Vocab_count of U.S Presidents')\n",
    "Avg_vocab_count_by_party()"
   ]
  },
  {
   "cell_type": "markdown",
   "metadata": {},
   "source": [
    "#### On average Republican Presidents has the highest Vocabulary Followed by Others and then Democrats. Their respective Vocab Word counts are 822,792,714 words respectively"
   ]
  },
  {
   "cell_type": "markdown",
   "metadata": {},
   "source": [
    "### Question-2\n",
    "### Create a barplot of presidential vocabulary from the earliest president (Washington) to the latest (Trump) in this sample of presidential speeches. Color code this barplot as blue for Democrats, red for Republican, and gray for Others.\n"
   ]
  },
  {
   "cell_type": "code",
   "execution_count": 9,
   "metadata": {},
   "outputs": [
    {
     "data": {
      "image/png": "[encoded data removed]",
      "text/plain": [
       "<Figure size 1296x432 with 1 Axes>"
      ]
     },
     "metadata": {
      "needs_background": "light"
     },
     "output_type": "display_data"
    }
   ],
   "source": [
    "#function to plot all vocab count of president group by color\n",
    "def Presidents_vocab_by_party():    \n",
    "    speeches_df_Year_party['President_Year']=speeches_df_Year_party['Year'].astype(str)+'-'+speeches_df_Year_party['President']\n",
    "    palette={\"Democratic\": \"Blue\", \"Republican\": \"Red\", \"Others\": \"Grey\"}\n",
    "    plt.figure(figsize=(18,6))\n",
    "    sns.barplot(x=speeches_df_Year_party['President_Year'], y=speeches_df_Year_party['Vocab_len'],hue=speeches_df_Year_party['Party'],palette=palette,dodge=False) # color=clrs)\n",
    "    plt.xlabel('President_Names')\n",
    "    plt.xticks(rotation=90)\n",
    "    plt.ylabel('Vocab_Count')\n",
    "    plt.title('Barplot of Vocab_count of U.S Presidents')\n",
    "Presidents_vocab_by_party()"
   ]
  },
  {
   "cell_type": "markdown",
   "metadata": {},
   "source": [
    "#### From the above Graph we can see that Presidents in the early 18th,19th Century has highest Vocabulary compared to 20th Centuries. With highest Vocab being William Henry Harrison and lowest  George Washington. \n",
    "\n",
    "#### Republican vocab has been decling on an average from 1909, whereas democrats voacabs are wavering around a average.  \n",
    "\n",
    "#### Initial presidencies were mostly independent 1829 was the first democratic president and republic president was in 1869.  We can see from 1885 U.S become Bi-party government "
   ]
  },
  {
   "cell_type": "markdown",
   "metadata": {},
   "source": [
    "### Top Words used by Presidents"
   ]
  },
  {
   "cell_type": "markdown",
   "metadata": {},
   "source": [
    "### Question 3\n",
    "\n",
    "###  What are the five most frequently used words (exclusive of stop words) used by each president? Do Democratic presidents use a different set of words than Republican presidents? "
   ]
  },
  {
   "cell_type": "code",
   "execution_count": 10,
   "metadata": {},
   "outputs": [],
   "source": [
    "#Function to return top 5 words by president\n",
    "stop_words = nltk.corpus.stopwords.words('english')\n",
    "def Top_5_words(speech):\n",
    "    #Speech_Corpus_by_President=speeches_df_Year_party['Speech'][i].strip().lower()\n",
    "    Speech_Corpus_by_President=speech.strip().lower()\n",
    "    Speech_Words_by_President=Speech_Corpus_by_President.split()\n",
    "    Speech_Words_by_President = [re.sub(r'[:!?\\.,-]+', '', h) for h in Speech_Words_by_President]\n",
    "    Speech_Words_by_President = [w for w in Speech_Words_by_President if w not in stop_words]\n",
    "    Speech_Words_by_President = [w for w in Speech_Words_by_President if len(w)>1]\n",
    "    Speech_Words_by_President_freq=FreqDist(Speech_Words_by_President)\n",
    "    Speech_Words_by_President_freq_List=[]\n",
    "    for key, value in Speech_Words_by_President_freq.items():\n",
    "        if value !='':\n",
    "            Speech_Words_by_President_freq_List.append((value, key))\n",
    "    Speech_Words_by_President_freq_List.sort(reverse=True)\n",
    "    top_5_Words = Speech_Words_by_President_freq_List[0:5]\n",
    "    values, Words = zip(*top_5_Words)\n",
    "    return Words"
   ]
  },
  {
   "cell_type": "code",
   "execution_count": 11,
   "metadata": {},
   "outputs": [],
   "source": [
    "#Adding to dataframe for printing words and president\n",
    "speeches_df_Year_party['Top_5_Words']=''\n",
    "for i in speeches_df_Year_party.index:\n",
    "    speeches_df_Year_party['Top_5_Words'][i]=Top_5_words(speeches_df_Year_party['Speech'][i])"
   ]
  },
  {
   "cell_type": "markdown",
   "metadata": {},
   "source": [
    "#### Below are the words by top 5 words used by US presidents "
   ]
  },
  {
   "cell_type": "code",
   "execution_count": 12,
   "metadata": {},
   "outputs": [
    {
     "data": {
      "text/html": [
       "<div>\n",
       "<style scoped>\n",
       "    .dataframe tbody tr th:only-of-type {\n",
       "        vertical-align: middle;\n",
       "    }\n",
       "\n",
       "    .dataframe tbody tr th {\n",
       "        vertical-align: top;\n",
       "    }\n",
       "\n",
       "    .dataframe thead th {\n",
       "        text-align: right;\n",
       "    }\n",
       "</style>\n",
       "<table border=\"1\" class=\"dataframe\">\n",
       "  <thead>\n",
       "    <tr style=\"text-align: right;\">\n",
       "      <th></th>\n",
       "      <th>President</th>\n",
       "      <th>Top_5_Words</th>\n",
       "    </tr>\n",
       "  </thead>\n",
       "  <tbody>\n",
       "    <tr>\n",
       "      <th>0</th>\n",
       "      <td>George Washington</td>\n",
       "      <td>(every, government, public, may, present)</td>\n",
       "    </tr>\n",
       "    <tr>\n",
       "      <th>1</th>\n",
       "      <td>George Washington</td>\n",
       "      <td>(shall, oath, witnesses, willingly, voice)</td>\n",
       "    </tr>\n",
       "    <tr>\n",
       "      <th>2</th>\n",
       "      <td>John Adams</td>\n",
       "      <td>(people, government, may, nations, states)</td>\n",
       "    </tr>\n",
       "    <tr>\n",
       "      <th>3</th>\n",
       "      <td>Thomas Jefferson</td>\n",
       "      <td>(government, us, may, let, would)</td>\n",
       "    </tr>\n",
       "    <tr>\n",
       "      <th>4</th>\n",
       "      <td>Thomas Jefferson</td>\n",
       "      <td>(public, may, citizens, state, fellow)</td>\n",
       "    </tr>\n",
       "    <tr>\n",
       "      <th>5</th>\n",
       "      <td>James Madison</td>\n",
       "      <td>(public, nations, well, states, rights)</td>\n",
       "    </tr>\n",
       "    <tr>\n",
       "      <th>6</th>\n",
       "      <td>James Madison</td>\n",
       "      <td>(war, united, every, country, british)</td>\n",
       "    </tr>\n",
       "    <tr>\n",
       "      <th>7</th>\n",
       "      <td>James Monroe</td>\n",
       "      <td>(great, government, states, us, people)</td>\n",
       "    </tr>\n",
       "    <tr>\n",
       "      <th>8</th>\n",
       "      <td>James Monroe</td>\n",
       "      <td>(great, states, would, war, united)</td>\n",
       "    </tr>\n",
       "    <tr>\n",
       "      <th>9</th>\n",
       "      <td>John Quincy Adams</td>\n",
       "      <td>(union, upon, government, rights, public)</td>\n",
       "    </tr>\n",
       "    <tr>\n",
       "      <th>10</th>\n",
       "      <td>Andrew Jackson</td>\n",
       "      <td>(public, shall, government, power, people)</td>\n",
       "    </tr>\n",
       "    <tr>\n",
       "      <th>11</th>\n",
       "      <td>Andrew Jackson</td>\n",
       "      <td>(government, union, people, states, upon)</td>\n",
       "    </tr>\n",
       "    <tr>\n",
       "      <th>12</th>\n",
       "      <td>Martin Van Buren</td>\n",
       "      <td>(people, every, institutions, government, upon)</td>\n",
       "    </tr>\n",
       "    <tr>\n",
       "      <th>13</th>\n",
       "      <td>William Henry Harrison</td>\n",
       "      <td>(power, people, government, constitution, upon)</td>\n",
       "    </tr>\n",
       "    <tr>\n",
       "      <th>14</th>\n",
       "      <td>James K. Polk</td>\n",
       "      <td>(government, states, union, would, one)</td>\n",
       "    </tr>\n",
       "    <tr>\n",
       "      <th>15</th>\n",
       "      <td>Zachary Taylor</td>\n",
       "      <td>(shall, government, duties, country, us)</td>\n",
       "    </tr>\n",
       "    <tr>\n",
       "      <th>16</th>\n",
       "      <td>Zachary Taylor</td>\n",
       "      <td>(upon, power, us, shall, must)</td>\n",
       "    </tr>\n",
       "    <tr>\n",
       "      <th>17</th>\n",
       "      <td>James Buchanan</td>\n",
       "      <td>(states, shall, constitution, may, people)</td>\n",
       "    </tr>\n",
       "    <tr>\n",
       "      <th>18</th>\n",
       "      <td>Abraham Lincoln</td>\n",
       "      <td>(constitution, people, union, states, government)</td>\n",
       "    </tr>\n",
       "    <tr>\n",
       "      <th>19</th>\n",
       "      <td>Andrew Johnson</td>\n",
       "      <td>(war, shall, god, years, union)</td>\n",
       "    </tr>\n",
       "    <tr>\n",
       "      <th>20</th>\n",
       "      <td>Ulysses S. Grant</td>\n",
       "      <td>(country, every, without, us, public)</td>\n",
       "    </tr>\n",
       "    <tr>\n",
       "      <th>21</th>\n",
       "      <td>Ulysses S. Grant</td>\n",
       "      <td>(people, country, made, best, office)</td>\n",
       "    </tr>\n",
       "    <tr>\n",
       "      <th>22</th>\n",
       "      <td>Rutherford B. Hayes</td>\n",
       "      <td>(country, upon, government, states, public)</td>\n",
       "    </tr>\n",
       "    <tr>\n",
       "      <th>23</th>\n",
       "      <td>James A. Garfield</td>\n",
       "      <td>(people, government, states, constitution, upon)</td>\n",
       "    </tr>\n",
       "    <tr>\n",
       "      <th>24</th>\n",
       "      <td>Grover Cleveland</td>\n",
       "      <td>(people, government, public, shall, constitution)</td>\n",
       "    </tr>\n",
       "    <tr>\n",
       "      <th>25</th>\n",
       "      <td>Benjamin Harrison</td>\n",
       "      <td>(people, upon, states, shall, public)</td>\n",
       "    </tr>\n",
       "    <tr>\n",
       "      <th>26</th>\n",
       "      <td>Grover Cleveland</td>\n",
       "      <td>(people, government, us, every, public)</td>\n",
       "    </tr>\n",
       "    <tr>\n",
       "      <th>27</th>\n",
       "      <td>William McKinley</td>\n",
       "      <td>(upon, people, must, government, congress)</td>\n",
       "    </tr>\n",
       "    <tr>\n",
       "      <th>28</th>\n",
       "      <td>William McKinley</td>\n",
       "      <td>(government, people, upon, united, executive)</td>\n",
       "    </tr>\n",
       "    <tr>\n",
       "      <th>29</th>\n",
       "      <td>Theodore Roosevelt</td>\n",
       "      <td>(us, people, must, life, problems)</td>\n",
       "    </tr>\n",
       "    <tr>\n",
       "      <th>30</th>\n",
       "      <td>William Howard Taft</td>\n",
       "      <td>(government, business, must, may, upon)</td>\n",
       "    </tr>\n",
       "    <tr>\n",
       "      <th>31</th>\n",
       "      <td>Woodrow Wilson</td>\n",
       "      <td>(great, government, men, life, justice)</td>\n",
       "    </tr>\n",
       "    <tr>\n",
       "      <th>32</th>\n",
       "      <td>Woodrow Wilson</td>\n",
       "      <td>(upon, shall, us, purpose, action)</td>\n",
       "    </tr>\n",
       "    <tr>\n",
       "      <th>33</th>\n",
       "      <td>Warren G. Harding</td>\n",
       "      <td>(world, must, america, war, never)</td>\n",
       "    </tr>\n",
       "    <tr>\n",
       "      <th>34</th>\n",
       "      <td>Calvin Coolidge</td>\n",
       "      <td>(must, country, great, people, government)</td>\n",
       "    </tr>\n",
       "    <tr>\n",
       "      <th>35</th>\n",
       "      <td>Herbert Hoover</td>\n",
       "      <td>(government, upon, progress, world, peace)</td>\n",
       "    </tr>\n",
       "    <tr>\n",
       "      <th>36</th>\n",
       "      <td>Franklin D. Roosevelt</td>\n",
       "      <td>(national, must, may, shall, people)</td>\n",
       "    </tr>\n",
       "    <tr>\n",
       "      <th>37</th>\n",
       "      <td>Franklin D. Roosevelt</td>\n",
       "      <td>(government, people, nation, see, men)</td>\n",
       "    </tr>\n",
       "    <tr>\n",
       "      <th>38</th>\n",
       "      <td>Franklin D. Roosevelt</td>\n",
       "      <td>(nation, know, spirit, democracy, us)</td>\n",
       "    </tr>\n",
       "    <tr>\n",
       "      <th>39</th>\n",
       "      <td>Franklin D. Roosevelt</td>\n",
       "      <td>(shall, peace, learned, today, men)</td>\n",
       "    </tr>\n",
       "    <tr>\n",
       "      <th>40</th>\n",
       "      <td>Harry S. Truman</td>\n",
       "      <td>(world, nations, peace, people, freedom)</td>\n",
       "    </tr>\n",
       "    <tr>\n",
       "      <th>41</th>\n",
       "      <td>Dwight D. Eisenhower</td>\n",
       "      <td>(free, world, faith, peace, us)</td>\n",
       "    </tr>\n",
       "    <tr>\n",
       "      <th>42</th>\n",
       "      <td>Dwight D. Eisenhower</td>\n",
       "      <td>(may, world, nations, peace, seek)</td>\n",
       "    </tr>\n",
       "    <tr>\n",
       "      <th>43</th>\n",
       "      <td>John F. Kennedy</td>\n",
       "      <td>(let, us, world, sides, pledge)</td>\n",
       "    </tr>\n",
       "    <tr>\n",
       "      <th>44</th>\n",
       "      <td>Lyndon B. Johnson</td>\n",
       "      <td>(us, change, nation, must, union)</td>\n",
       "    </tr>\n",
       "    <tr>\n",
       "      <th>45</th>\n",
       "      <td>Richard Nixon</td>\n",
       "      <td>(us, people, world, peace, let)</td>\n",
       "    </tr>\n",
       "    <tr>\n",
       "      <th>46</th>\n",
       "      <td>Richard Nixon</td>\n",
       "      <td>(us, let, peace, world, new)</td>\n",
       "    </tr>\n",
       "    <tr>\n",
       "      <th>47</th>\n",
       "      <td>Jimmy Carter</td>\n",
       "      <td>(nation, new, us, must, together)</td>\n",
       "    </tr>\n",
       "    <tr>\n",
       "      <th>48</th>\n",
       "      <td>Ronald Reagan</td>\n",
       "      <td>(us, government, must, believe, americans)</td>\n",
       "    </tr>\n",
       "    <tr>\n",
       "      <th>49</th>\n",
       "      <td>George H. W. Bush</td>\n",
       "      <td>(us, people, world, one, government)</td>\n",
       "    </tr>\n",
       "    <tr>\n",
       "      <th>50</th>\n",
       "      <td>George H. W. Bush</td>\n",
       "      <td>(new, us, world, nation, great)</td>\n",
       "    </tr>\n",
       "    <tr>\n",
       "      <th>51</th>\n",
       "      <td>Bill Clinton</td>\n",
       "      <td>(world, must, america, us, people)</td>\n",
       "    </tr>\n",
       "    <tr>\n",
       "      <th>52</th>\n",
       "      <td>Bill Clinton</td>\n",
       "      <td>(new, us, century, nation, time)</td>\n",
       "    </tr>\n",
       "    <tr>\n",
       "      <th>53</th>\n",
       "      <td>George W. Bush</td>\n",
       "      <td>(us, country, citizens, nation, america)</td>\n",
       "    </tr>\n",
       "    <tr>\n",
       "      <th>54</th>\n",
       "      <td>George W. Bush</td>\n",
       "      <td>(freedom, liberty, america, every, one)</td>\n",
       "    </tr>\n",
       "    <tr>\n",
       "      <th>55</th>\n",
       "      <td>Barack Obama</td>\n",
       "      <td>(us, nation, new, must, every)</td>\n",
       "    </tr>\n",
       "    <tr>\n",
       "      <th>56</th>\n",
       "      <td>Barack Obama</td>\n",
       "      <td>(us, must, people, time, together)</td>\n",
       "    </tr>\n",
       "    <tr>\n",
       "      <th>57</th>\n",
       "      <td>Donald Trump</td>\n",
       "      <td>(america, american, people, country, one)</td>\n",
       "    </tr>\n",
       "  </tbody>\n",
       "</table>\n",
       "</div>"
      ],
      "text/plain": [
       "                 President                                        Top_5_Words\n",
       "0        George Washington          (every, government, public, may, present)\n",
       "1        George Washington         (shall, oath, witnesses, willingly, voice)\n",
       "2               John Adams         (people, government, may, nations, states)\n",
       "3         Thomas Jefferson                  (government, us, may, let, would)\n",
       "4         Thomas Jefferson             (public, may, citizens, state, fellow)\n",
       "5            James Madison            (public, nations, well, states, rights)\n",
       "6            James Madison             (war, united, every, country, british)\n",
       "7             James Monroe            (great, government, states, us, people)\n",
       "8             James Monroe                (great, states, would, war, united)\n",
       "9        John Quincy Adams          (union, upon, government, rights, public)\n",
       "10          Andrew Jackson         (public, shall, government, power, people)\n",
       "11          Andrew Jackson          (government, union, people, states, upon)\n",
       "12        Martin Van Buren    (people, every, institutions, government, upon)\n",
       "13  William Henry Harrison    (power, people, government, constitution, upon)\n",
       "14           James K. Polk            (government, states, union, would, one)\n",
       "15          Zachary Taylor           (shall, government, duties, country, us)\n",
       "16          Zachary Taylor                     (upon, power, us, shall, must)\n",
       "17          James Buchanan         (states, shall, constitution, may, people)\n",
       "18         Abraham Lincoln  (constitution, people, union, states, government)\n",
       "19          Andrew Johnson                    (war, shall, god, years, union)\n",
       "20        Ulysses S. Grant              (country, every, without, us, public)\n",
       "21        Ulysses S. Grant              (people, country, made, best, office)\n",
       "22     Rutherford B. Hayes        (country, upon, government, states, public)\n",
       "23       James A. Garfield   (people, government, states, constitution, upon)\n",
       "24        Grover Cleveland  (people, government, public, shall, constitution)\n",
       "25       Benjamin Harrison              (people, upon, states, shall, public)\n",
       "26        Grover Cleveland            (people, government, us, every, public)\n",
       "27        William McKinley         (upon, people, must, government, congress)\n",
       "28        William McKinley      (government, people, upon, united, executive)\n",
       "29      Theodore Roosevelt                 (us, people, must, life, problems)\n",
       "30     William Howard Taft            (government, business, must, may, upon)\n",
       "31          Woodrow Wilson            (great, government, men, life, justice)\n",
       "32          Woodrow Wilson                 (upon, shall, us, purpose, action)\n",
       "33       Warren G. Harding                 (world, must, america, war, never)\n",
       "34         Calvin Coolidge         (must, country, great, people, government)\n",
       "35          Herbert Hoover         (government, upon, progress, world, peace)\n",
       "36   Franklin D. Roosevelt               (national, must, may, shall, people)\n",
       "37   Franklin D. Roosevelt             (government, people, nation, see, men)\n",
       "38   Franklin D. Roosevelt              (nation, know, spirit, democracy, us)\n",
       "39   Franklin D. Roosevelt                (shall, peace, learned, today, men)\n",
       "40         Harry S. Truman           (world, nations, peace, people, freedom)\n",
       "41    Dwight D. Eisenhower                    (free, world, faith, peace, us)\n",
       "42    Dwight D. Eisenhower                 (may, world, nations, peace, seek)\n",
       "43         John F. Kennedy                    (let, us, world, sides, pledge)\n",
       "44       Lyndon B. Johnson                  (us, change, nation, must, union)\n",
       "45           Richard Nixon                    (us, people, world, peace, let)\n",
       "46           Richard Nixon                       (us, let, peace, world, new)\n",
       "47            Jimmy Carter                  (nation, new, us, must, together)\n",
       "48           Ronald Reagan         (us, government, must, believe, americans)\n",
       "49       George H. W. Bush               (us, people, world, one, government)\n",
       "50       George H. W. Bush                    (new, us, world, nation, great)\n",
       "51            Bill Clinton                 (world, must, america, us, people)\n",
       "52            Bill Clinton                   (new, us, century, nation, time)\n",
       "53          George W. Bush           (us, country, citizens, nation, america)\n",
       "54          George W. Bush            (freedom, liberty, america, every, one)\n",
       "55            Barack Obama                     (us, nation, new, must, every)\n",
       "56            Barack Obama                 (us, must, people, time, together)\n",
       "57            Donald Trump          (america, american, people, country, one)"
      ]
     },
     "execution_count": 12,
     "metadata": {},
     "output_type": "execute_result"
    }
   ],
   "source": [
    "speeches_df_Year_party[['President','Top_5_Words']]"
   ]
  },
  {
   "cell_type": "markdown",
   "metadata": {},
   "source": [
    "#### Comparision of Democrats and Republicans most frequent words"
   ]
  },
  {
   "cell_type": "code",
   "execution_count": 13,
   "metadata": {},
   "outputs": [
    {
     "data": {
      "text/html": [
       "<div>\n",
       "<style scoped>\n",
       "    .dataframe tbody tr th:only-of-type {\n",
       "        vertical-align: middle;\n",
       "    }\n",
       "\n",
       "    .dataframe tbody tr th {\n",
       "        vertical-align: top;\n",
       "    }\n",
       "\n",
       "    .dataframe thead th {\n",
       "        text-align: right;\n",
       "    }\n",
       "</style>\n",
       "<table border=\"1\" class=\"dataframe\">\n",
       "  <thead>\n",
       "    <tr style=\"text-align: right;\">\n",
       "      <th></th>\n",
       "      <th>Party</th>\n",
       "      <th>Speech</th>\n",
       "    </tr>\n",
       "  </thead>\n",
       "  <tbody>\n",
       "    <tr>\n",
       "      <th>0</th>\n",
       "      <td>Democratic</td>\n",
       "      <td>fellow citizens, about to undertake the arduou...</td>\n",
       "    </tr>\n",
       "    <tr>\n",
       "      <th>1</th>\n",
       "      <td>Republican</td>\n",
       "      <td>citizens of the united states:\\n\\nyour suffrag...</td>\n",
       "    </tr>\n",
       "    <tr>\n",
       "      <th>2</th>\n",
       "      <td>Other</td>\n",
       "      <td>fellow-citizens of the senate and of the house...</td>\n",
       "    </tr>\n",
       "  </tbody>\n",
       "</table>\n",
       "</div>"
      ],
      "text/plain": [
       "        Party                                             Speech\n",
       "0  Democratic  fellow citizens, about to undertake the arduou...\n",
       "1  Republican  citizens of the united states:\\n\\nyour suffrag...\n",
       "2       Other  fellow-citizens of the senate and of the house..."
      ]
     },
     "execution_count": 13,
     "metadata": {},
     "output_type": "execute_result"
    }
   ],
   "source": [
    "## creating corpus by party and creating dict of corpus\n",
    "Speech_Corpus_Democratic=''\n",
    "Speech_Corpus_Republican=''\n",
    "Speech_Corpus_Other=''\n",
    "for i in speeches_df_Year_party.index:\n",
    "    if 'Democratic' in speeches_df_Year_party['Party'][i]:\n",
    "        Speech_Corpus_Democratic=Speech_Corpus_Democratic + speeches_df_Year_party['Speech'][i].strip().lower()\n",
    "    if 'Republican' in speeches_df_Year_party['Party'][i]:\n",
    "        Speech_Corpus_Republican=Speech_Corpus_Republican + speeches_df_Year_party['Speech'][i].strip().lower()\n",
    "    else:\n",
    "        Speech_Corpus_Other=Speech_Corpus_Other + speeches_df_Year_party['Speech'][i].strip().lower()\n",
    "speeches_df_party_dict = pd.DataFrame({'Party': ['Democratic', 'Republican', 'Other'],\n",
    "                   'Speech': [Speech_Corpus_Democratic, Speech_Corpus_Republican, Speech_Corpus_Other]})\n",
    "speeches_df_party_dict"
   ]
  },
  {
   "cell_type": "code",
   "execution_count": 14,
   "metadata": {},
   "outputs": [
    {
     "data": {
      "text/html": [
       "<div>\n",
       "<style scoped>\n",
       "    .dataframe tbody tr th:only-of-type {\n",
       "        vertical-align: middle;\n",
       "    }\n",
       "\n",
       "    .dataframe tbody tr th {\n",
       "        vertical-align: top;\n",
       "    }\n",
       "\n",
       "    .dataframe thead th {\n",
       "        text-align: right;\n",
       "    }\n",
       "</style>\n",
       "<table border=\"1\" class=\"dataframe\">\n",
       "  <thead>\n",
       "    <tr style=\"text-align: right;\">\n",
       "      <th></th>\n",
       "      <th>Party</th>\n",
       "      <th>top_5_Words</th>\n",
       "    </tr>\n",
       "  </thead>\n",
       "  <tbody>\n",
       "    <tr>\n",
       "      <th>0</th>\n",
       "      <td>Democratic</td>\n",
       "      <td>(people, us, government, must, shall)</td>\n",
       "    </tr>\n",
       "    <tr>\n",
       "      <th>1</th>\n",
       "      <td>Republican</td>\n",
       "      <td>(people, us, government, must, world)</td>\n",
       "    </tr>\n",
       "    <tr>\n",
       "      <th>2</th>\n",
       "      <td>Other</td>\n",
       "      <td>(government, people, us, may, states)</td>\n",
       "    </tr>\n",
       "  </tbody>\n",
       "</table>\n",
       "</div>"
      ],
      "text/plain": [
       "        Party                            top_5_Words\n",
       "0  Democratic  (people, us, government, must, shall)\n",
       "1  Republican  (people, us, government, must, world)\n",
       "2       Other  (government, people, us, may, states)"
      ]
     },
     "execution_count": 14,
     "metadata": {},
     "output_type": "execute_result"
    }
   ],
   "source": [
    "## top_5 words by speech by calling top_5 words which we created for presedent words\n",
    "speeches_df_party_dict['Vocab_Count']=''\n",
    "speeches_df_party_dict['top_5_Words']=''\n",
    "for i in speeches_df_party_dict.index:\n",
    "    speeches_df_party_dict['top_5_Words'][i]=Top_5_words(speeches_df_party_dict['Speech'][i])\n",
    "speeches_df_party_dict[['Party','top_5_Words']]"
   ]
  },
  {
   "cell_type": "markdown",
   "metadata": {},
   "source": [
    "####  Democrats and Republicans use same set of words for their speech based on frequent used words."
   ]
  },
  {
   "cell_type": "markdown",
   "metadata": {},
   "source": [
    "### Question 4\n",
    "\n",
    "### 4. Compute a sentiment (positive/negative) for each president, and draw three barplots of Democratic, Republican, and other presidents in chronological order. Which of these groups have higher mean sentiment score? Who are the top three presidents with the highest positive sentiment in each group?\n"
   ]
  },
  {
   "cell_type": "code",
   "execution_count": 15,
   "metadata": {},
   "outputs": [],
   "source": [
    "## Polarity calculation from Textblob NaiveBayesAnalyser\n",
    "from nltk.sentiment.vader import SentimentIntensityAnalyzer\n",
    "analyzer = SentimentIntensityAnalyzer()\n",
    "speeches_df_Year_party['Compound']=''\n",
    "speeches_df_Year_party['pos']=''\n",
    "for i in speeches_df_Year_party.index:\n",
    "    speeches_df_Year_party['Compound'][i] = analyzer.polarity_scores(speeches_df_Year_party['Speech'][i].strip().lower())['compound']\n",
    "    speeches_df_Year_party['pos'][i] = analyzer.polarity_scores(speeches_df_Year_party['Speech'][i].strip().lower())['pos']"
   ]
  },
  {
   "cell_type": "code",
   "execution_count": 16,
   "metadata": {},
   "outputs": [],
   "source": [
    "#defination to Sentiment barplot by party and color\n",
    "def sentiment_barplot(Party,Color):\n",
    "    plt.figure(figsize=(8,5))\n",
    "    x=speeches_df_Year_party[speeches_df_Year_party.Party==Party]['President_Year']# X axis\n",
    "    y=speeches_df_Year_party[speeches_df_Year_party.Party==Party]['Compound']# y-axis\n",
    "    sns.barplot(x=x, y=y,color=Color) #plot\n",
    "    plt.xlabel('President_Names')\n",
    "    plt.xticks(rotation=90)\n",
    "    plt.ylabel('Compound Sentiment')\n",
    "    plt.title('Barplot of Compound sentiment of '+ Party + ' U.S Presidents')"
   ]
  },
  {
   "cell_type": "code",
   "execution_count": 17,
   "metadata": {},
   "outputs": [
    {
     "data": {
      "image/png": "[encoded data removed]",
      "text/plain": [
       "<Figure size 576x360 with 1 Axes>"
      ]
     },
     "metadata": {
      "needs_background": "light"
     },
     "output_type": "display_data"
    },
    {
     "data": {
      "image/png": "[encoded data removed]",
      "text/plain": [
       "<Figure size 576x360 with 1 Axes>"
      ]
     },
     "metadata": {
      "needs_background": "light"
     },
     "output_type": "display_data"
    },
    {
     "data": {
      "image/png": "[encoded data removed]",
      "text/plain": [
       "<Figure size 576x360 with 1 Axes>"
      ]
     },
     "metadata": {
      "needs_background": "light"
     },
     "output_type": "display_data"
    }
   ],
   "source": [
    "##calling functons\n",
    "sentiment_barplot('Democratic','Blue')\n",
    "sentiment_barplot('Republican','Red')\n",
    "sentiment_barplot('Others','Grey')"
   ]
  },
  {
   "cell_type": "markdown",
   "metadata": {},
   "source": [
    "#### From the above Bar_plots we can see that all presedential speeches of Republican and democratic presedents are compounded to aproximately 1. This might be due to the high positive words used after winning elections.\n",
    "\n",
    "#### One intresting thing to observe from the graph is the speech of Andrew Johnson in 1865. The polarity of the speech is negative. Also, George washington speech of 1793 which is at approx~ 075 when compared to all other speeches at ~1."
   ]
  },
  {
   "cell_type": "code",
   "execution_count": 18,
   "metadata": {},
   "outputs": [
    {
     "name": "stdout",
     "output_type": "stream",
     "text": [
      "Party\n",
      "Democratic    0.999627\n",
      "Others        0.852627\n",
      "Republican    0.999886\n",
      "Name: Compound, dtype: float64\n"
     ]
    }
   ],
   "source": [
    "#compound sentiment score group by party\n",
    "speeches_df_Year_party['Compound']=speeches_df_Year_party['Compound'].astype(float)\n",
    "print(speeches_df_Year_party.groupby('Party')['Compound'].mean())"
   ]
  },
  {
   "cell_type": "markdown",
   "metadata": {},
   "source": [
    "####  Republicans has higher mean sentiment score."
   ]
  },
  {
   "cell_type": "code",
   "execution_count": 19,
   "metadata": {},
   "outputs": [
    {
     "data": {
      "text/html": [
       "<div>\n",
       "<style scoped>\n",
       "    .dataframe tbody tr th:only-of-type {\n",
       "        vertical-align: middle;\n",
       "    }\n",
       "\n",
       "    .dataframe tbody tr th {\n",
       "        vertical-align: top;\n",
       "    }\n",
       "\n",
       "    .dataframe thead th {\n",
       "        text-align: right;\n",
       "    }\n",
       "</style>\n",
       "<table border=\"1\" class=\"dataframe\">\n",
       "  <thead>\n",
       "    <tr style=\"text-align: right;\">\n",
       "      <th></th>\n",
       "      <th>Party</th>\n",
       "      <th>President</th>\n",
       "      <th>pos</th>\n",
       "    </tr>\n",
       "  </thead>\n",
       "  <tbody>\n",
       "    <tr>\n",
       "      <th>47</th>\n",
       "      <td>Democratic</td>\n",
       "      <td>Jimmy Carter</td>\n",
       "      <td>0.284</td>\n",
       "    </tr>\n",
       "    <tr>\n",
       "      <th>40</th>\n",
       "      <td>Democratic</td>\n",
       "      <td>Harry S. Truman</td>\n",
       "      <td>0.274</td>\n",
       "    </tr>\n",
       "    <tr>\n",
       "      <th>17</th>\n",
       "      <td>Democratic</td>\n",
       "      <td>James Buchanan</td>\n",
       "      <td>0.225</td>\n",
       "    </tr>\n",
       "    <tr>\n",
       "      <th>2</th>\n",
       "      <td>Others</td>\n",
       "      <td>John Adams</td>\n",
       "      <td>0.259</td>\n",
       "    </tr>\n",
       "    <tr>\n",
       "      <th>0</th>\n",
       "      <td>Others</td>\n",
       "      <td>George Washington</td>\n",
       "      <td>0.239</td>\n",
       "    </tr>\n",
       "    <tr>\n",
       "      <th>15</th>\n",
       "      <td>Others</td>\n",
       "      <td>Zachary Taylor</td>\n",
       "      <td>0.237</td>\n",
       "    </tr>\n",
       "    <tr>\n",
       "      <th>42</th>\n",
       "      <td>Republican</td>\n",
       "      <td>Dwight D. Eisenhower</td>\n",
       "      <td>0.272</td>\n",
       "    </tr>\n",
       "    <tr>\n",
       "      <th>54</th>\n",
       "      <td>Republican</td>\n",
       "      <td>George W. Bush</td>\n",
       "      <td>0.271</td>\n",
       "    </tr>\n",
       "    <tr>\n",
       "      <th>41</th>\n",
       "      <td>Republican</td>\n",
       "      <td>Dwight D. Eisenhower</td>\n",
       "      <td>0.262</td>\n",
       "    </tr>\n",
       "  </tbody>\n",
       "</table>\n",
       "</div>"
      ],
      "text/plain": [
       "         Party             President    pos\n",
       "47  Democratic          Jimmy Carter  0.284\n",
       "40  Democratic       Harry S. Truman  0.274\n",
       "17  Democratic        James Buchanan  0.225\n",
       "2       Others            John Adams  0.259\n",
       "0       Others     George Washington  0.239\n",
       "15      Others        Zachary Taylor  0.237\n",
       "42  Republican  Dwight D. Eisenhower  0.272\n",
       "54  Republican        George W. Bush  0.271\n",
       "41  Republican  Dwight D. Eisenhower  0.262"
      ]
     },
     "execution_count": 19,
     "metadata": {},
     "output_type": "execute_result"
    }
   ],
   "source": [
    "#top 3 presidents by positive sentiment score and party \n",
    "speeches_df_Year_party=speeches_df_Year_party.sort_values(['pos'], ascending=False)\n",
    "speeches_df_Year_party.groupby('Party')['Party','President','pos'].head(3).sort_values(['Party'])"
   ]
  },
  {
   "cell_type": "markdown",
   "metadata": {},
   "source": [
    "#### Above are the top 3 presidents by positive sentiment score in each group of parties "
   ]
  }
 ],
 "metadata": {
  "kernelspec": {
   "display_name": "Python 3",
   "language": "python",
   "name": "python3"
  },
  "language_info": {
   "codemirror_mode": {
    "name": "ipython",
    "version": 3
   },
   "file_extension": ".py",
   "mimetype": "text/x-python",
   "name": "python",
   "nbconvert_exporter": "python",
   "pygments_lexer": "ipython3",
   "version": "3.7.5"
  }
 },
 "nbformat": 4,
 "nbformat_minor": 4
}
